{
 "cells": [
  {
   "cell_type": "markdown",
   "id": "6a9f0c3a-2e6b-4590-8b6a-0c917be36669",
   "metadata": {},
   "source": [
    "## Set up\n",
    "If you use pip, you can install the requirement by this command:\n",
    "```python\n",
    "! pip install scipy networkx\n",
    "```\n",
    "or using the command below if conda package manager is used:\n",
    "```python\n",
    "conda install -c anaconda networkx\n",
    "```"
   ]
  },
  {
   "cell_type": "code",
   "execution_count": null,
   "id": "d216f7d2-ceea-494b-a2f5-d0d0499ea883",
   "metadata": {},
   "outputs": [],
   "source": []
  }
 ],
 "metadata": {
  "kernelspec": {
   "display_name": "Python 3 (ipykernel)",
   "language": "python",
   "name": "python3"
  },
  "language_info": {
   "codemirror_mode": {
    "name": "ipython",
    "version": 3
   },
   "file_extension": ".py",
   "mimetype": "text/x-python",
   "name": "python",
   "nbconvert_exporter": "python",
   "pygments_lexer": "ipython3",
   "version": "3.10.4"
  }
 },
 "nbformat": 4,
 "nbformat_minor": 5
}
