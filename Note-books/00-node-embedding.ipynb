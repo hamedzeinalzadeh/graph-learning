{
 "cells": [
  {
   "cell_type": "markdown",
   "id": "0e3788b8-a5d0-4739-87e4-daf60cc1bfeb",
   "metadata": {},
   "source": [
    "# NetworkX Tutorial"
   ]
  },
  {
   "cell_type": "markdown",
   "id": "6a9f0c3a-2e6b-4590-8b6a-0c917be36669",
   "metadata": {},
   "source": [
    "### Set up\n",
    "If you use pip, you can install the requirement by this command:\n",
    "```python\n",
    "! pip install scipy networkx\n",
    "```\n",
    "or using the command below if conda package manager is used:\n",
    "```python\n",
    "conda install -c anaconda networkx\n",
    "```"
   ]
  },
  {
   "cell_type": "markdown",
   "id": "fc14f72f-7219-4e1f-af25-da55f3bcaee0",
   "metadata": {},
   "source": [
    "### Imports"
   ]
  },
  {
   "cell_type": "code",
   "execution_count": 2,
   "id": "e54b6faa-68d1-480c-87a8-cdb4ff6581d6",
   "metadata": {},
   "outputs": [],
   "source": [
    "import networkx as nx"
   ]
  },
  {
   "cell_type": "markdown",
   "id": "1394fbee-9b2a-41c0-ac04-689c5282a9a9",
   "metadata": {},
   "source": [
    "### Graphs\n",
    "To define different types of graphs like directed, undirected and multigraphs, NetworkX provides some classes to create and store."
   ]
  },
  {
   "cell_type": "code",
   "execution_count": 3,
   "id": "e24166c7-4885-4be8-b03f-a58353fdae04",
   "metadata": {},
   "outputs": [],
   "source": [
    "# Create an undirected graph G\n",
    "G = nx.Graph()\n",
    "print(G.is_directed())\n",
    "\n",
    "# Create a directed graph H\n",
    "H = nx.DiGraph()\n",
    "print(H.is_directed())\n",
    "\n",
    "# Add graph level attribute\n",
    "G.graph[\"Name\"] = \"Bar\"\n",
    "print(G.graph)"
   ]
  },
  {
   "cell_type": "markdown",
   "id": "2d46cb05-7169-4a8d-8b94-e1f5251d6c57",
   "metadata": {},
   "source": [
    "### Nodes and edges\n",
    "Adding nodes with attributes to the graph is available."
   ]
  },
  {
   "cell_type": "code",
   "execution_count": null,
   "id": "4ba85e40-2109-4c27-a703-cb408ba1d01b",
   "metadata": {},
   "outputs": [],
   "source": [
    "# Add one node with node level attributes\n",
    "G.add_node(0, feature=5, label=0)\n",
    "\n",
    "# Get attributes of the node 0\n",
    "node_0_attr = G.nodes[0]\n",
    "print(\"Node 0 has the attributes {}\".format(node_0_attr))"
   ]
  },
  {
   "cell_type": "code",
   "execution_count": null,
   "id": "f765766f-ced6-4888-a064-61369e83b086",
   "metadata": {},
   "outputs": [],
   "source": [
    "G.nodes(data=True)"
   ]
  },
  {
   "cell_type": "code",
   "execution_count": null,
   "id": "3ad5fd5e-7a17-4b83-8b5c-b32b18c907b3",
   "metadata": {},
   "outputs": [],
   "source": [
    "# Add multiple nodes with attributes\n",
    "G.add_nodes_from([\n",
    "  (1, {\"feature\": 1, \"label\": 1}),\n",
    "  (2, {\"feature\": 2, \"label\": 2})\n",
    "]) #(node, attrdict)\n",
    "\n",
    "# Loop through all the nodes\n",
    "# Set data=True will return node attributes\n",
    "for node in G.nodes(data=True):\n",
    "  print(node)\n",
    "\n",
    "# Get number of nodes\n",
    "num_nodes = G.number_of_nodes()\n",
    "print(\"G has {} nodes\".format(num_nodes))"
   ]
  },
  {
   "cell_type": "code",
   "execution_count": null,
   "id": "a78d4040-5917-4a54-b8f2-1744337f64ee",
   "metadata": {},
   "outputs": [],
   "source": [
    "# Add one edge with edge weight 0.5\n",
    "G.add_edge(0, 1, weight=0.5)\n",
    "\n",
    "# Get attributes of the edge (0, 1)\n",
    "edge_0_1_attr = G.edges[(0, 1)]\n",
    "print(\"Edge (0, 1) has the attributes {}\".format(edge_0_1_attr))"
   ]
  },
  {
   "cell_type": "code",
   "execution_count": null,
   "id": "2ec6a964-1c77-4ba0-81da-0426407c591a",
   "metadata": {},
   "outputs": [],
   "source": [
    "# Add multiple edges with edge weights\n",
    "G.add_edges_from([\n",
    "  (1, 2, {\"weight\": 0.3}),\n",
    "  (2, 0, {\"weight\": 0.1})\n",
    "])\n",
    "\n",
    "# Loop through all the edges\n",
    "# Here there is no data=True, so only the edge will be returned\n",
    "for edge in G.edges():\n",
    "  print(edge)\n",
    "\n",
    "# Get number of edges\n",
    "num_edges = G.number_of_edges()\n",
    "print(\"G has {} edges\".format(num_edges))"
   ]
  },
  {
   "cell_type": "markdown",
   "id": "01be31d0-6abc-4415-9b11-d51859895a26",
   "metadata": {},
   "source": [
    "## Visualization"
   ]
  },
  {
   "cell_type": "code",
   "execution_count": null,
   "id": "4cc06985-ef22-4e44-a4e0-8d6bd01c51fb",
   "metadata": {},
   "outputs": [],
   "source": []
  },
  {
   "cell_type": "code",
   "execution_count": null,
   "id": "ac8877ec-06b1-470d-a4c7-0e2861e62a63",
   "metadata": {},
   "outputs": [],
   "source": [
    "# Draw the graph\n",
    "nx.draw(G, with_labels = True)"
   ]
  },
  {
   "cell_type": "markdown",
   "id": "5777aa9c-3a38-4fdd-9f1d-f02f33bed029",
   "metadata": {},
   "source": [
    "## Node Degree and Neighbours"
   ]
  },
  {
   "cell_type": "code",
   "execution_count": null,
   "id": "7d528f1d-4d8f-40dd-93a9-ff53bd1cce3b",
   "metadata": {},
   "outputs": [],
   "source": [
    "node_id = 1\n",
    "\n",
    "# Degree of node 1\n",
    "print(\"Node {} has degree {}\".format(node_id, G.degree[node_id]))\n",
    "\n",
    "# Get neighbor of node 1\n",
    "for neighbor in G.neighbors(node_id):\n",
    "  print(\"Node {} has neighbor {}\".format(node_id, neighbor))"
   ]
  }
 ],
 "metadata": {
  "kernelspec": {
   "display_name": "Python 3 (ipykernel)",
   "language": "python",
   "name": "python3"
  },
  "language_info": {
   "codemirror_mode": {
    "name": "ipython",
    "version": 3
   },
   "file_extension": ".py",
   "mimetype": "text/x-python",
   "name": "python",
   "nbconvert_exporter": "python",
   "pygments_lexer": "ipython3",
   "version": "3.10.4"
  }
 },
 "nbformat": 4,
 "nbformat_minor": 5
}
