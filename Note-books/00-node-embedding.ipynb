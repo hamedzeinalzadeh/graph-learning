{
 "cells": [
  {
   "cell_type": "markdown",
   "id": "0e3788b8-a5d0-4739-87e4-daf60cc1bfeb",
   "metadata": {},
   "source": [
    "# NetworkX Tutorial"
   ]
  },
  {
   "cell_type": "markdown",
   "id": "6a9f0c3a-2e6b-4590-8b6a-0c917be36669",
   "metadata": {},
   "source": [
    "### Set up\n",
    "If you use pip, you can install the requirement by this command:\n",
    "```python\n",
    "! pip install scipy networkx\n",
    "```\n",
    "or using the command below if conda package manager is used:\n",
    "```python\n",
    "conda install -c anaconda networkx\n",
    "```"
   ]
  },
  {
   "cell_type": "markdown",
   "id": "fc14f72f-7219-4e1f-af25-da55f3bcaee0",
   "metadata": {},
   "source": [
    "### Imports"
   ]
  },
  {
   "cell_type": "code",
   "execution_count": 2,
   "id": "e54b6faa-68d1-480c-87a8-cdb4ff6581d6",
   "metadata": {},
   "outputs": [],
   "source": [
    "import networkx as nx"
   ]
  },
  {
   "cell_type": "markdown",
   "id": "1394fbee-9b2a-41c0-ac04-689c5282a9a9",
   "metadata": {},
   "source": [
    "### Graphs\n",
    "To define different types of graphs like directed, undirected and multigraphs, NetworkX provides some classes to create and store."
   ]
  },
  {
   "cell_type": "code",
   "execution_count": 3,
   "id": "e24166c7-4885-4be8-b03f-a58353fdae04",
   "metadata": {},
   "outputs": [],
   "source": [
    "# Create an undirected graph G\n",
    "G = nx.Graph()\n",
    "print(G.is_directed())\n",
    "\n",
    "# Create a directed graph H\n",
    "H = nx.DiGraph()\n",
    "print(H.is_directed())\n",
    "\n",
    "# Add graph level attribute\n",
    "G.graph[\"Name\"] = \"Bar\"\n",
    "print(G.graph)"
   ]
  },
  {
   "cell_type": "markdown",
   "id": "2d46cb05-7169-4a8d-8b94-e1f5251d6c57",
   "metadata": {},
   "source": [
    "### Nodes"
   ]
  },
  {
   "cell_type": "code",
   "execution_count": null,
   "id": "4ba85e40-2109-4c27-a703-cb408ba1d01b",
   "metadata": {},
   "outputs": [],
   "source": [
    "# Add one node with node level attributes\n",
    "G.add_node(0, feature=5, label=0)\n",
    "\n",
    "# Get attributes of the node 0\n",
    "node_0_attr = G.nodes[0]\n",
    "print(\"Node 0 has the attributes {}\".format(node_0_attr))"
   ]
  }
 ],
 "metadata": {
  "kernelspec": {
   "display_name": "Python 3 (ipykernel)",
   "language": "python",
   "name": "python3"
  },
  "language_info": {
   "codemirror_mode": {
    "name": "ipython",
    "version": 3
   },
   "file_extension": ".py",
   "mimetype": "text/x-python",
   "name": "python",
   "nbconvert_exporter": "python",
   "pygments_lexer": "ipython3",
   "version": "3.10.4"
  }
 },
 "nbformat": 4,
 "nbformat_minor": 5
}
